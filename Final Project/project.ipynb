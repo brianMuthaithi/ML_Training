{
 "cells": [
  {
   "cell_type": "code",
   "execution_count": null,
   "metadata": {},
   "outputs": [],
   "source": [
    "import tensorflow as tf\n",
    "from tensorflow.python import keras\n",
    "from keras import layers, models"
   ]
  },
  {
   "cell_type": "code",
   "execution_count": 2,
   "metadata": {},
   "outputs": [
    {
     "name": "stdout",
     "output_type": "stream",
     "text": [
      "Found 22566 images belonging to 80 classes.\n",
      "Found 6505 images belonging to 80 classes.\n"
     ]
    }
   ],
   "source": [
    "from keras.preprocessing.image import ImageDataGenerator\n",
    "\n",
    "imageGen = ImageDataGenerator()\n",
    "\n",
    "# load training data\n",
    "train_data = imageGen.flow_from_directory('Animals/train/', class_mode=\"categorical\", shuffle=False, batch_size=128, target_size=(224, 224))\n",
    "\n",
    "# load test data\n",
    "test_data = imageGen.flow_from_directory('Animals/test/', class_mode=\"categorical\", shuffle=False, batch_size=128, target_size=(224, 224))\n"
   ]
  },
  {
   "cell_type": "code",
   "execution_count": null,
   "metadata": {},
   "outputs": [],
   "source": [
    "from keras.layers import Conv2D, MaxPool2D, Flatten, Dense, InputLayer, BatchNormalization, Dropout\n",
    "\n",
    "# defne the layers\n",
    "input_shape = (224, 224, 3)\n",
    "model = models.Sequential()\n",
    "model.add(InputLayer(input_shape))\n",
    "\n",
    "# 1st convo layer\n",
    "model.add(Conv2D(filters=32, kernel_size=(5,5), strides=(1,1), padding=\"same\", activation=\"relu\"))\n",
    "model.add(MaxPool2D(pool_size=(2,2), padding=\"same\"))\n",
    "\n",
    "# 2nd conv block\n",
    "model.add(Conv2D(64, (5, 5), activation='relu', strides=(2, 2), padding='same'))\n",
    "model.add(MaxPool2D(pool_size=(2, 2), padding='same'))\n",
    "model.add(BatchNormalization())\n",
    "\n",
    "# 3rd conv block\n",
    "model.add(Conv2D(128, (3, 3), activation='relu', strides=(2, 2), padding='same'))\n",
    "model.add(MaxPool2D(pool_size=(2, 2), padding='same'))\n",
    "model.add(BatchNormalization())\n",
    "\n",
    "# Deep NN layer\n",
    "model.add(Flatten())\n",
    "model.add(Dense(902, activation='relu'))\n",
    "model.add(Dense(180, activation='relu'))\n",
    "# output layer\n",
    "model.add(Dense(80, activation='softmax'))\n",
    "\n",
    "# setup parameters\n",
    "model.compile(optimizer=\"adam\", loss = \"categorical_crossentropy\", metrics= \"accuracy\")\n",
    "\n",
    "# train the model\n",
    "model.fit_generator(train_data, epochs= 20, validation_data=test_data)"
   ]
  }
 ],
 "metadata": {
  "kernelspec": {
   "display_name": "base",
   "language": "python",
   "name": "python3"
  },
  "language_info": {
   "codemirror_mode": {
    "name": "ipython",
    "version": 3
   },
   "file_extension": ".py",
   "mimetype": "text/x-python",
   "name": "python",
   "nbconvert_exporter": "python",
   "pygments_lexer": "ipython3",
   "version": "3.9.12"
  },
  "orig_nbformat": 4
 },
 "nbformat": 4,
 "nbformat_minor": 2
}
